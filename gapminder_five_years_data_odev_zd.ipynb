{
 "cells": [
  {
   "cell_type": "code",
   "execution_count": null,
   "id": "ae310516-28bf-4756-abee-96ac39f6a464",
   "metadata": {},
   "outputs": [],
   "source": [
    "import pandas as pd\n",
    "import numpy as np\n",
    "import matplotlib.pyplot as plt\n",
    "import seaborn as sns\n",
    "import plotly.express as px"
   ]
  },
  {
   "cell_type": "code",
   "execution_count": null,
   "id": "7663cf59-75ea-4aed-bee6-83687ce8fc2b",
   "metadata": {},
   "outputs": [],
   "source": [
    "df = pd.read_csv(\"gapminder-FiveYearData.csv\")\n",
    "df.head()"
   ]
  },
  {
   "cell_type": "code",
   "execution_count": null,
   "id": "e6dd6cb5-3b72-4b5e-bba2-632988c394e6",
   "metadata": {},
   "outputs": [],
   "source": [
    "df.head(10)"
   ]
  },
  {
   "cell_type": "code",
   "execution_count": null,
   "id": "5e5460da-d36e-4110-a92a-fcaaabef07eb",
   "metadata": {},
   "outputs": [],
   "source": [
    "df.tail(10)"
   ]
  },
  {
   "cell_type": "code",
   "execution_count": null,
   "id": "34f2d8e6-7853-4754-8146-02fdfbe9381f",
   "metadata": {},
   "outputs": [],
   "source": [
    "df.info()"
   ]
  },
  {
   "cell_type": "code",
   "execution_count": null,
   "id": "5db55445-c262-4b70-924e-76e6dd408d56",
   "metadata": {},
   "outputs": [],
   "source": [
    "df.describe()"
   ]
  },
  {
   "cell_type": "code",
   "execution_count": null,
   "id": "cf068c61-aba7-4ff5-88fd-981a3b5f9534",
   "metadata": {},
   "outputs": [],
   "source": [
    "df.columns"
   ]
  },
  {
   "cell_type": "code",
   "execution_count": null,
   "id": "069917b9-4a4d-47f2-b434-a3ca7b2b4852",
   "metadata": {},
   "outputs": [],
   "source": [
    "df.isnull().sum()"
   ]
  },
  {
   "cell_type": "code",
   "execution_count": null,
   "id": "ea2c8ce1-3f94-44f6-a690-cc0acc175394",
   "metadata": {},
   "outputs": [],
   "source": [
    "df[\"country\"].unique()"
   ]
  },
  {
   "cell_type": "code",
   "execution_count": null,
   "id": "5e99f5a7-2958-435f-ac82-b9bbcb1346b7",
   "metadata": {},
   "outputs": [],
   "source": [
    "df[\"year\"].unique()"
   ]
  },
  {
   "cell_type": "code",
   "execution_count": null,
   "id": "a79c2ed1-83b3-4da4-bffb-81356c60254b",
   "metadata": {},
   "outputs": [],
   "source": [
    "df[\"continent\"].unique()"
   ]
  },
  {
   "cell_type": "code",
   "execution_count": null,
   "id": "22862d5f-6e00-4f59-8555-8c394df6eef8",
   "metadata": {},
   "outputs": [],
   "source": [
    "df[\"country\"].value_counts()"
   ]
  },
  {
   "cell_type": "code",
   "execution_count": null,
   "id": "737c96bb-404d-4b5b-98d7-d9dda71edbb0",
   "metadata": {},
   "outputs": [],
   "source": [
    "df[\"year\"].value_counts()"
   ]
  },
  {
   "cell_type": "code",
   "execution_count": null,
   "id": "4ba795a2-38b1-43fa-ad7b-bac3a1ae836d",
   "metadata": {},
   "outputs": [],
   "source": [
    "df[\"continent\"].value_counts()"
   ]
  },
  {
   "cell_type": "code",
   "execution_count": null,
   "id": "38b18e90-923a-40b9-ac54-2ce435ce0c51",
   "metadata": {},
   "outputs": [],
   "source": [
    "df.sort_values(by = \"pop\", ascending = False).reset_index()"
   ]
  },
  {
   "cell_type": "code",
   "execution_count": null,
   "id": "29ef0c7b-9ea2-45e2-804b-efd943d81fe3",
   "metadata": {},
   "outputs": [],
   "source": [
    "df.sort_values(by = \"lifeExp\", ascending = False).reset_index()"
   ]
  },
  {
   "cell_type": "code",
   "execution_count": null,
   "id": "6be6176f-9307-49ac-b601-f7cbf7fce431",
   "metadata": {},
   "outputs": [],
   "source": [
    "df.sort_values(by = \"gdpPercap\", ascending = False).reset_index()"
   ]
  },
  {
   "cell_type": "code",
   "execution_count": null,
   "id": "4299f465-09d0-4bc6-89aa-bd797976b72c",
   "metadata": {},
   "outputs": [],
   "source": [
    "df.sort_values(by = \"pop\", ascending = True).reset_index()"
   ]
  },
  {
   "cell_type": "code",
   "execution_count": null,
   "id": "abdac75a-02b5-43ba-aea1-5bf3e510d991",
   "metadata": {},
   "outputs": [],
   "source": [
    "df.sort_values(by = \"lifeExp\", ascending = True).reset_index()"
   ]
  },
  {
   "cell_type": "code",
   "execution_count": null,
   "id": "5ed2585d-8e07-4c14-ad51-63854432cbc4",
   "metadata": {},
   "outputs": [],
   "source": [
    "df.sort_values(by = \"gdpPercap\", ascending = True).reset_index()"
   ]
  },
  {
   "cell_type": "code",
   "execution_count": null,
   "id": "b2b77ec4-d56a-487a-96d1-7dcb0c99f410",
   "metadata": {},
   "outputs": [],
   "source": [
    "df.groupby(\"country\")[[\"pop\"]].mean().reset_index()"
   ]
  },
  {
   "cell_type": "code",
   "execution_count": null,
   "id": "466f1efc-9ba4-44d5-9e3c-27e688a5499a",
   "metadata": {},
   "outputs": [],
   "source": [
    "df.groupby(\"country\")[[\"lifeExp\"]].mean().reset_index()"
   ]
  },
  {
   "cell_type": "code",
   "execution_count": null,
   "id": "f601bb40-cf02-4703-adbd-bb13d75c601d",
   "metadata": {},
   "outputs": [],
   "source": [
    "df.groupby(\"country\")[[\"gdpPercap\"]].mean().reset_index()"
   ]
  },
  {
   "cell_type": "code",
   "execution_count": null,
   "id": "23018d10-5e21-4638-afd6-cf743166fc5f",
   "metadata": {},
   "outputs": [],
   "source": [
    "df.groupby(\"year\")[[\"pop\"]].mean().reset_index()"
   ]
  },
  {
   "cell_type": "code",
   "execution_count": null,
   "id": "78426211-eb0f-4c98-a245-82cc65c3451f",
   "metadata": {},
   "outputs": [],
   "source": [
    "df.groupby(\"year\")[[\"lifeExp\"]].mean().reset_index()"
   ]
  },
  {
   "cell_type": "code",
   "execution_count": null,
   "id": "7bf97413-4eea-4fe2-af57-c5a9fb1ada53",
   "metadata": {},
   "outputs": [],
   "source": [
    "df.groupby(\"year\")[[\"gdpPercap\"]].mean().reset_index()"
   ]
  },
  {
   "cell_type": "code",
   "execution_count": null,
   "id": "a365cf13-5ec3-4754-8fa1-f0a56a05d428",
   "metadata": {},
   "outputs": [],
   "source": [
    "df.groupby(\"continent\")[[\"pop\"]].mean().reset_index()"
   ]
  },
  {
   "cell_type": "code",
   "execution_count": null,
   "id": "7fa53f19-b16c-495f-931f-5a7289e117b7",
   "metadata": {},
   "outputs": [],
   "source": [
    "df.groupby(\"continent\")[[\"lifeExp\"]].mean().reset_index()"
   ]
  },
  {
   "cell_type": "code",
   "execution_count": null,
   "id": "a5fdb72b-4a07-4206-9b6d-b9fcd17dface",
   "metadata": {},
   "outputs": [],
   "source": [
    "df.groupby(\"continent\")[[\"gdpPercap\"]].mean().reset_index()"
   ]
  },
  {
   "cell_type": "code",
   "execution_count": null,
   "id": "3395bcc8-f060-43aa-9368-68c5b5249557",
   "metadata": {},
   "outputs": [],
   "source": [
    "df.groupby(\"pop\")[[\"lifeExp\"]].mean().reset_index()"
   ]
  },
  {
   "cell_type": "code",
   "execution_count": null,
   "id": "f5a720bc-ba95-4e89-bda3-dc35b41001e2",
   "metadata": {},
   "outputs": [],
   "source": [
    "df.groupby(\"pop\")[[\"gdpPercap\"]].mean().reset_index()"
   ]
  },
  {
   "cell_type": "code",
   "execution_count": null,
   "id": "3703e572-b842-4967-8521-ad13f71dd73e",
   "metadata": {},
   "outputs": [],
   "source": [
    "df"
   ]
  },
  {
   "cell_type": "code",
   "execution_count": null,
   "id": "366e8595-aba3-4c90-8341-7eaa211b4b64",
   "metadata": {},
   "outputs": [],
   "source": [
    "plt.figure(figsize=(16, 6))\n",
    "\n",
    "sns.lineplot(data = df, x = \"country\", y = \"pop\")\n",
    "\n",
    "plt.title(\"Ülkelere Göre Nüfus Sayısı\")\n",
    "plt.xlabel(\"Ülke\")\n",
    "plt.ylabel(\"Nüfus\")\n",
    "plt.xticks(rotation=90)\n",
    "\n",
    "plt.tight_layout()\n",
    "plt.show()"
   ]
  },
  {
   "cell_type": "code",
   "execution_count": null,
   "id": "a16a74ce-c789-425a-beb8-a86c7bc45d9b",
   "metadata": {},
   "outputs": [],
   "source": [
    "plt.figure(figsize=(16, 6))\n",
    "\n",
    "sns.lineplot(data = df, x = \"country\", y = \"lifeExp\")\n",
    "\n",
    "plt.title(\"Ülkelere Göre Ortalama Yaşam Süresi\")\n",
    "plt.xlabel(\"Ülke\")\n",
    "plt.ylabel(\"Yaşam Süresi\")\n",
    "plt.xticks(rotation=90)\n",
    "\n",
    "plt.tight_layout()\n",
    "plt.show()"
   ]
  },
  {
   "cell_type": "code",
   "execution_count": null,
   "id": "88bbed14-36b8-4a8e-a2b4-071f07d3c566",
   "metadata": {},
   "outputs": [],
   "source": [
    "plt.figure(figsize=(16, 6))\n",
    "\n",
    "sns.lineplot(data = df, x = \"country\", y = \"gdpPercap\")\n",
    "\n",
    "plt.title(\"Ülkelere Göre Kişi Başına Düşen GSYİH\")\n",
    "plt.xlabel(\"Ülke\")\n",
    "plt.ylabel(\"GSYİH\")\n",
    "plt.xticks(rotation=90)\n",
    "\n",
    "plt.tight_layout()\n",
    "plt.show()"
   ]
  },
  {
   "cell_type": "code",
   "execution_count": null,
   "id": "b5e8cef4-f26e-4aa9-8c87-19ce6a4ff1e3",
   "metadata": {},
   "outputs": [],
   "source": [
    "sns.lineplot(data = df, x = \"year\", y = \"pop\")\n",
    "plt.title(\"Yıllara Göre Nüfus Sayısı\")\n",
    "plt.xlabel(\"Yıl\")\n",
    "plt.ylabel(\"Nüfus\")\n",
    "plt.show()"
   ]
  },
  {
   "cell_type": "code",
   "execution_count": null,
   "id": "cb2a7fe2-4516-4af9-81b3-04de531a3ce8",
   "metadata": {},
   "outputs": [],
   "source": [
    "sns.lineplot(data = df, x = \"year\", y = \"lifeExp\")\n",
    "plt.title(\"Yıllara Göre Ortalama Yaşam Süresi\")\n",
    "plt.xlabel(\"Yıl\")\n",
    "plt.ylabel(\"Yaşam Süresi\")\n",
    "plt.show()"
   ]
  },
  {
   "cell_type": "code",
   "execution_count": null,
   "id": "152e5c10-dfb4-4c36-804d-34ff12b9921a",
   "metadata": {},
   "outputs": [],
   "source": [
    "sns.lineplot(data = df, x = \"year\", y = \"gdpPercap\")\n",
    "plt.title(\"Yıllara Göre Kişi Başına Düşen GSYİH\")\n",
    "plt.xlabel(\"Yıl\")\n",
    "plt.ylabel(\"GSYİH\")\n",
    "plt.show()"
   ]
  },
  {
   "cell_type": "code",
   "execution_count": null,
   "id": "82c2236b-16c6-470c-aee4-4a6a3defb198",
   "metadata": {},
   "outputs": [],
   "source": [
    "sns.barplot(data = df, x = \"continent\", y = \"pop\")\n",
    "plt.title(\"Kıtalara Göre Nüfus Sayısı\")\n",
    "plt.xlabel(\"Kıta\")\n",
    "plt.ylabel(\"Nüfus\")\n",
    "plt.show()"
   ]
  },
  {
   "cell_type": "code",
   "execution_count": null,
   "id": "1be810ec-2529-441e-8f7a-2fdb652c61ce",
   "metadata": {},
   "outputs": [],
   "source": [
    "sns.barplot(data = df, x = \"continent\", y = \"lifeExp\")\n",
    "plt.title(\"Kıtalara Göre Ortalama Yaşam Süresi\")\n",
    "plt.xlabel(\"Kıta\")\n",
    "plt.ylabel(\"Yaşam Süresi\")\n",
    "plt.show()"
   ]
  },
  {
   "cell_type": "code",
   "execution_count": null,
   "id": "d7c258a5-4b6a-4434-bfcd-da5df3f87ca7",
   "metadata": {},
   "outputs": [],
   "source": [
    "sns.barplot(data = df, x = \"continent\", y = \"gdpPercap\")\n",
    "plt.title(\"Kıtalara Göre Kişi Başına Düşen GSYİH\")\n",
    "plt.xlabel(\"Kıta\")\n",
    "plt.ylabel(\"GSYİH\")\n",
    "plt.show()"
   ]
  },
  {
   "cell_type": "code",
   "execution_count": null,
   "id": "bfd4f8b0-b4e8-4368-9ab8-35eba848a037",
   "metadata": {},
   "outputs": [],
   "source": [
    "df[df[\"country\"] == \"Turkey\"]"
   ]
  },
  {
   "cell_type": "code",
   "execution_count": null,
   "id": "52ff84d9-4141-45d2-ae03-8f18283add51",
   "metadata": {},
   "outputs": [],
   "source": [
    "plt.figure(figsize=(15,5))\n",
    "sns.lineplot(x = \"year\", y = \"pop\", data = df[df[\"country\"] == \"Turkey\"])\n",
    "plt.xticks(rotation=90);\n",
    "plt.title(\"Türkiye'de Yıllara Göre Nüfus Sayısı\")\n",
    "plt.show()"
   ]
  },
  {
   "cell_type": "code",
   "execution_count": null,
   "id": "904d84f8-e1b3-4526-81da-876062042799",
   "metadata": {},
   "outputs": [],
   "source": [
    "plt.figure(figsize=(15,5))\n",
    "sns.lineplot(x = \"year\", y = \"lifeExp\", data = df[df[\"country\"] == \"Turkey\"])\n",
    "plt.xticks(rotation=90);\n",
    "plt.title(\"Türkiye'de Yıllara Göre Ortalama Yaşam Süresi\")\n",
    "plt.show()"
   ]
  },
  {
   "cell_type": "code",
   "execution_count": null,
   "id": "a0fdeced-bf0f-4f58-bb98-3451ba203ec2",
   "metadata": {},
   "outputs": [],
   "source": [
    "plt.figure(figsize=(15,5))\n",
    "sns.lineplot(x = \"year\", y = \"gdpPercap\", data = df[df[\"country\"] == \"Turkey\"])\n",
    "plt.xticks(rotation=90);\n",
    "plt.title(\"Türkiye'de Yıllara Göre Kişi Başına Düşen GSYİH\")\n",
    "plt.show()"
   ]
  }
 ],
 "metadata": {
  "kernelspec": {
   "display_name": "Python [conda env:base] *",
   "language": "python",
   "name": "conda-base-py"
  },
  "language_info": {
   "codemirror_mode": {
    "name": "ipython",
    "version": 3
   },
   "file_extension": ".py",
   "mimetype": "text/x-python",
   "name": "python",
   "nbconvert_exporter": "python",
   "pygments_lexer": "ipython3",
   "version": "3.12.7"
  }
 },
 "nbformat": 4,
 "nbformat_minor": 5
}
